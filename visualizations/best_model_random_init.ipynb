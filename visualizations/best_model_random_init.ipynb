{
 "cells": [
  {
   "cell_type": "code",
   "execution_count": null,
   "id": "ddf1401a",
   "metadata": {},
   "outputs": [],
   "source": [
    "# Imports\n",
    "import io\n",
    "import os\n",
    "import glob\n",
    "import torch\n",
    "import base64\n",
    "import stable_baselines3\n",
    "from torch import nn\n",
    "from torch.functional import F\n",
    "import numpy as np\n",
    "import matplotlib.pyplot as plt\n",
    "import seaborn as sns\n",
    "\n",
    "from stable_baselines3 import DQN\n",
    "from stable_baselines3.dqn.policies import CnnPolicy\n",
    "\n",
    "import gym\n",
    "\n",
    "from gym.wrappers import Monitor\n",
    "from stable_baselines3.common.callbacks import EvalCallback\n",
    "\n",
    "\n",
    "import pandas as pd\n",
    "from pathlib import Path\n",
    "\n",
    "from helper_functions import performance_plot, movement_plot"
   ]
  },
  {
   "cell_type": "code",
   "execution_count": null,
   "id": "2dcc0845",
   "metadata": {},
   "outputs": [],
   "source": [
    "folder='./original/info/'\n",
    "df_info = pd.concat([pd.read_csv(folder + name)\n",
    "                       for name in os.listdir(folder)\n",
    "                       if name.endswith('.csv')\n",
    "                    ])\n",
    "df_info = (df_info\n",
    "           .reset_index(drop=True)\n",
    "           .drop(columns='Unnamed: 0')\n",
    "          )\n",
    "df_info"
   ]
  },
  {
   "cell_type": "code",
   "execution_count": null,
   "id": "8a710ee5",
   "metadata": {},
   "outputs": [],
   "source": [
    "performance_plot(df_info);"
   ]
  },
  {
   "cell_type": "code",
   "execution_count": null,
   "id": "5891519e",
   "metadata": {},
   "outputs": [],
   "source": [
    "movement_plot(df_info);"
   ]
  },
  {
   "cell_type": "code",
   "execution_count": null,
   "id": "d2f56e88",
   "metadata": {},
   "outputs": [],
   "source": [
    "movement_plot(df_info.query('last_reward < 0 '));"
   ]
  },
  {
   "cell_type": "code",
   "execution_count": null,
   "id": "5e7df3c7",
   "metadata": {},
   "outputs": [],
   "source": [
    "movement_plot(df_info.query('last_reward > -50 '));"
   ]
  },
  {
   "cell_type": "markdown",
   "id": "3f9d31de",
   "metadata": {},
   "source": [
    "df_info_last_step = (df_info\n",
    "                     .groupby('repeat')\n",
    "                     .apply(lambda df: df.iloc[-1, :])\n",
    "                     .copy()\n",
    "                    )\n",
    "df_info_last_step.head()"
   ]
  },
  {
   "cell_type": "code",
   "execution_count": null,
   "id": "c7c0a1c2",
   "metadata": {},
   "outputs": [],
   "source": [
    "folder='./transfer/info/'\n",
    "df_info = pd.concat([pd.read_csv(folder + name)\n",
    "                       for name in os.listdir(folder)\n",
    "                       if name.endswith('.csv')\n",
    "                    ])\n",
    "df_info = (df_info\n",
    "           .reset_index(drop=True)\n",
    "           .drop(columns='Unnamed: 0')\n",
    "          )\n",
    "df_info"
   ]
  },
  {
   "cell_type": "code",
   "execution_count": null,
   "id": "0cd3f48a",
   "metadata": {},
   "outputs": [],
   "source": [
    "performance_plot(df_info);"
   ]
  },
  {
   "cell_type": "code",
   "execution_count": null,
   "id": "240b1a5e",
   "metadata": {},
   "outputs": [],
   "source": [
    "movement_plot(df_info);"
   ]
  },
  {
   "cell_type": "code",
   "execution_count": null,
   "id": "ad5f8b10",
   "metadata": {},
   "outputs": [],
   "source": [
    "movement_plot(df_info.query('last_reward<0'));"
   ]
  }
 ],
 "metadata": {
  "kernelspec": {
   "display_name": "Python 3",
   "language": "python",
   "name": "python3"
  },
  "language_info": {
   "codemirror_mode": {
    "name": "ipython",
    "version": 3
   },
   "file_extension": ".py",
   "mimetype": "text/x-python",
   "name": "python",
   "nbconvert_exporter": "python",
   "pygments_lexer": "ipython3",
   "version": "3.8.8"
  }
 },
 "nbformat": 4,
 "nbformat_minor": 5
}
